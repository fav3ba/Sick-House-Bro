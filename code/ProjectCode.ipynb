{
 "cells": [
  {
   "cell_type": "markdown",
   "id": "4b835231-d40c-42bc-9b64-15b19c8c821a",
   "metadata": {},
   "source": [
    "# TODO:\n",
    "\n",
    "Pull in data sources\\\n",
    "Combine into single data frame based on FIPS codes \\\n",
    "Aggregate daily cases and deaths into monthly? Housing is month to month"
   ]
  },
  {
   "cell_type": "code",
   "execution_count": null,
   "id": "26f1f688-e86e-479f-9165-ae1aac58101f",
   "metadata": {},
   "outputs": [],
   "source": [
    "import pandas as pd\n",
    "import numpy as np\n",
    "import os\n",
    "\n",
    "data_dir = '..\\\\data\\\\' # Windows, reverse slashes for MacOS"
   ]
  }
 ],
 "metadata": {
  "kernelspec": {
   "display_name": "Python 3",
   "language": "python",
   "name": "python3"
  },
  "language_info": {
   "codemirror_mode": {
    "name": "ipython",
    "version": 3
   },
   "file_extension": ".py",
   "mimetype": "text/x-python",
   "name": "python",
   "nbconvert_exporter": "python",
   "pygments_lexer": "ipython3",
   "version": "3.8.5"
  }
 },
 "nbformat": 4,
 "nbformat_minor": 5
}
